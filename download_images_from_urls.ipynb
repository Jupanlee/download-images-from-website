{
 "cells": [
  {
   "cell_type": "code",
   "execution_count": 3,
   "metadata": {},
   "outputs": [
    {
     "name": "stdout",
     "output_type": "stream",
     "text": [
      "http://www.jorya.com/product/c201801/big/071.jpg\n",
      "http://www.jorya.com/product/c201801/big/072.jpg\n",
      "http://www.jorya.com/product/c201801/big/073.jpg\n"
     ]
    }
   ],
   "source": [
    "#  urllib为URL处理模块，其中urllib.request用于打开和读取网址内容\n",
    "import urllib.request\n",
    "\n",
    "root_url = 'http://www.jorya.com/product/c201801/big/'\n",
    "image_num = 73\n",
    "\n",
    "# zfill() 用于对字符串前端补零,zfill(3)意思为将字符串填充至包含3个字符，前端用零补齐\n",
    "\n",
    "for i in range(0,image_num):\n",
    "    image_name = str( i + 1 ).zfill(3) + '.jpg'\n",
    "    image_url = root_url + image_name\n",
    "    \n",
    "    # 打印下载进度\n",
    "    print(image_url)\n",
    "    \n",
    "    # urlretrieve(url, filename=None, reporthook=None, data=None),此处将文件下载至目录 downloadImages 下\n",
    "    urllib.request.urlretrieve(image_url,image_name)\n"
   ]
  }
 ],
 "metadata": {
  "kernelspec": {
   "display_name": "Python 3",
   "language": "python",
   "name": "python3"
  },
  "language_info": {
   "codemirror_mode": {
    "name": "ipython",
    "version": 3
   },
   "file_extension": ".py",
   "mimetype": "text/x-python",
   "name": "python",
   "nbconvert_exporter": "python",
   "pygments_lexer": "ipython3",
   "version": "3.5.3"
  }
 },
 "nbformat": 4,
 "nbformat_minor": 2
}
